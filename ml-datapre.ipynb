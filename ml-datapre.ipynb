{
 "cells": [
  {
   "cell_type": "markdown",
   "id": "6211fab2",
   "metadata": {},
   "source": [
    "<h1 align='center'>ML Method, data Pre</h1>"
   ]
  },
  {
   "cell_type": "code",
   "execution_count": 1,
   "id": "91b118b2",
   "metadata": {},
   "outputs": [],
   "source": [
    "import pandas as pd\n",
    "import numpy as np\n",
    "import math\n",
    "\n",
    "import sklearn as skl\n",
    "from sklearn.preprocessing import scale \n",
    "from sklearn.linear_model import LinearRegression\n",
    "from sklearn.metrics import r2_score\n",
    "from sklearn.linear_model import ElasticNet\n",
    "from sklearn.linear_model import MultiTaskElasticNetCV\n",
    "from sklearn.model_selection import RepeatedKFold\n",
    "from sklearn.model_selection import cross_val_score\n",
    "from sklearn.cross_decomposition import PLSRegression\n",
    "from sklearn.metrics import mean_squared_error\n",
    "from sklearn import model_selection\n",
    "from sklearn.model_selection import ParameterGrid\n",
    "\n",
    "import matplotlib.pyplot as plt"
   ]
  },
  {
   "cell_type": "code",
   "execution_count": 2,
   "id": "bb17f919",
   "metadata": {},
   "outputs": [],
   "source": [
    "data_use = pd.read_csv(\"data_use.csv\")\n"
   ]
  },
  {
   "cell_type": "code",
   "execution_count": 5,
   "id": "c8506442",
   "metadata": {},
   "outputs": [
    {
     "name": "stderr",
     "output_type": "stream",
     "text": [
      "/tmp/ipykernel_23973/3151013937.py:1: DtypeWarning: Columns (11) have mixed types. Specify dtype option on import or set low_memory=False.\n",
      "  data = pd.read_csv(\"out_sample.csv\")\n"
     ]
    }
   ],
   "source": [
    "data = pd.read_csv(\"out_sample.csv\")"
   ]
  },
  {
   "cell_type": "code",
   "execution_count": 6,
   "id": "94836759",
   "metadata": {},
   "outputs": [],
   "source": [
    "data = data[pd.to_numeric(data.RET, errors='coerce').notnull()]"
   ]
  },
  {
   "cell_type": "code",
   "execution_count": 7,
   "id": "cfc7a24c",
   "metadata": {},
   "outputs": [
    {
     "name": "stderr",
     "output_type": "stream",
     "text": [
      "/tmp/ipykernel_23973/1462319195.py:1: DeprecationWarning: `np.float` is a deprecated alias for the builtin `float`. To silence this warning, use `float` by itself. Doing this will not modify any behavior and is safe. If you specifically wanted the numpy scalar type, use `np.float64` here.\n",
      "Deprecated in NumPy 1.20; for more details and guidance: https://numpy.org/devdocs/release/1.20.0-notes.html#deprecations\n",
      "  data['RET'] = data['RET'].astype(np.float)\n",
      "/tmp/ipykernel_23973/1462319195.py:1: SettingWithCopyWarning: \n",
      "A value is trying to be set on a copy of a slice from a DataFrame.\n",
      "Try using .loc[row_indexer,col_indexer] = value instead\n",
      "\n",
      "See the caveats in the documentation: https://pandas.pydata.org/pandas-docs/stable/user_guide/indexing.html#returning-a-view-versus-a-copy\n",
      "  data['RET'] = data['RET'].astype(np.float)\n"
     ]
    }
   ],
   "source": [
    "data['RET'] = data['RET'].astype(np.float)"
   ]
  },
  {
   "cell_type": "code",
   "execution_count": 8,
   "id": "30bb3d7a",
   "metadata": {},
   "outputs": [
    {
     "name": "stderr",
     "output_type": "stream",
     "text": [
      "/tmp/ipykernel_23973/4175320337.py:2: SettingWithCopyWarning: \n",
      "A value is trying to be set on a copy of a slice from a DataFrame.\n",
      "Try using .loc[row_indexer,col_indexer] = value instead\n",
      "\n",
      "See the caveats in the documentation: https://pandas.pydata.org/pandas-docs/stable/user_guide/indexing.html#returning-a-view-versus-a-copy\n",
      "  data[\"size\"] = data['PRC'] * data['SHROUT']\n"
     ]
    }
   ],
   "source": [
    "# take value we need\n",
    "data[\"size\"] = data['PRC'] * data['SHROUT']\n",
    "data['s2p'] = data['saleq'] / data['size']\n",
    "data['risk_premium'] = data['RET'] - data['mktrf']"
   ]
  },
  {
   "cell_type": "code",
   "execution_count": 9,
   "id": "b43baa09",
   "metadata": {},
   "outputs": [],
   "source": [
    "data_use = data[['tic','PERMNO', 'VOL', 'RET','risk_premium', 'SPREAD', 'size', 's2p', 'epspxq', 'ceqq', 'mktrf', 'smb', 'hml', 'rf',\n",
    "       'umd','sprtrn', 'date_merge']]"
   ]
  },
  {
   "cell_type": "code",
   "execution_count": 10,
   "id": "ea751fa5",
   "metadata": {},
   "outputs": [
    {
     "name": "stderr",
     "output_type": "stream",
     "text": [
      "/u6/y3264zhang/.local/lib/python3.8/site-packages/pandas/core/arraylike.py:397: RuntimeWarning: invalid value encountered in log\n",
      "  result = getattr(ufunc, method)(*inputs, **kwargs)\n",
      "/tmp/ipykernel_23973/1549144521.py:1: SettingWithCopyWarning: \n",
      "A value is trying to be set on a copy of a slice from a DataFrame.\n",
      "Try using .loc[row_indexer,col_indexer] = value instead\n",
      "\n",
      "See the caveats in the documentation: https://pandas.pydata.org/pandas-docs/stable/user_guide/indexing.html#returning-a-view-versus-a-copy\n",
      "  data_use['sizeln'] = np.log(data_use['size'])\n"
     ]
    }
   ],
   "source": [
    "data_use['sizeln'] = np.log(data_use['size'])"
   ]
  },
  {
   "cell_type": "code",
   "execution_count": 11,
   "id": "7dc3cc64",
   "metadata": {},
   "outputs": [
    {
     "name": "stderr",
     "output_type": "stream",
     "text": [
      "/tmp/ipykernel_23973/1161450167.py:1: SettingWithCopyWarning: \n",
      "A value is trying to be set on a copy of a slice from a DataFrame\n",
      "\n",
      "See the caveats in the documentation: https://pandas.pydata.org/pandas-docs/stable/user_guide/indexing.html#returning-a-view-versus-a-copy\n",
      "  data_use.replace([np.inf, -np.inf], np.nan, inplace=True)\n",
      "/tmp/ipykernel_23973/1161450167.py:2: SettingWithCopyWarning: \n",
      "A value is trying to be set on a copy of a slice from a DataFrame\n",
      "\n",
      "See the caveats in the documentation: https://pandas.pydata.org/pandas-docs/stable/user_guide/indexing.html#returning-a-view-versus-a-copy\n",
      "  data_use.dropna(inplace = True)\n"
     ]
    }
   ],
   "source": [
    "data_use.replace([np.inf, -np.inf], np.nan, inplace=True)\n",
    "data_use.dropna(inplace = True)"
   ]
  },
  {
   "cell_type": "code",
   "execution_count": 12,
   "id": "3b0d46d5",
   "metadata": {},
   "outputs": [],
   "source": [
    "data_use = data_use[data_use['sizeln'] > 0]"
   ]
  },
  {
   "cell_type": "code",
   "execution_count": 13,
   "id": "cf0ce374",
   "metadata": {},
   "outputs": [],
   "source": [
    "data_use.to_csv(\"valid.csv\")"
   ]
  },
  {
   "cell_type": "code",
   "execution_count": null,
   "id": "8cddee9d",
   "metadata": {},
   "outputs": [],
   "source": []
  }
 ],
 "metadata": {
  "kernelspec": {
   "display_name": "Python 3 (ipykernel)",
   "language": "python",
   "name": "python3"
  },
  "language_info": {
   "codemirror_mode": {
    "name": "ipython",
    "version": 3
   },
   "file_extension": ".py",
   "mimetype": "text/x-python",
   "name": "python",
   "nbconvert_exporter": "python",
   "pygments_lexer": "ipython3",
   "version": "3.8.10"
  }
 },
 "nbformat": 4,
 "nbformat_minor": 5
}
