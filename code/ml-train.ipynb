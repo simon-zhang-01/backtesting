{
 "cells": [
  {
   "cell_type": "markdown",
   "id": "5ed04a67",
   "metadata": {},
   "source": [
    "<h1 align='center'>ML 2 Train</h1>"
   ]
  },
  {
   "cell_type": "code",
   "execution_count": 1,
   "id": "fbe4d1ae",
   "metadata": {},
   "outputs": [],
   "source": [
    "import pandas as pd\n",
    "import numpy as np\n",
    "import math\n",
    "\n",
    "import sklearn as skl\n",
    "from sklearn.preprocessing import scale \n",
    "from sklearn.linear_model import LinearRegression\n",
    "from sklearn.metrics import r2_score\n",
    "from sklearn.linear_model import ElasticNet\n",
    "from sklearn.linear_model import MultiTaskElasticNetCV\n",
    "from sklearn.model_selection import RepeatedKFold\n",
    "from sklearn.model_selection import cross_val_score\n",
    "from sklearn.cross_decomposition import PLSRegression\n",
    "from sklearn.metrics import mean_squared_error\n",
    "from sklearn import model_selection\n",
    "from sklearn.model_selection import ParameterGrid\n",
    "\n",
    "import matplotlib.pyplot as plt"
   ]
  },
  {
   "cell_type": "code",
   "execution_count": 2,
   "id": "c1603e7a",
   "metadata": {},
   "outputs": [],
   "source": [
    "# validation function\n",
    "def validate_model(model_type, param_grid, x_train, y_train, x_validate, y_validate):\n",
    "    # Special case for LinearRegression because it doesn't have hyperparameters to tune\n",
    "    if model_type == LinearRegression:\n",
    "        model = LinearRegression()\n",
    "        model.fit(x_train, y_train)\n",
    "        pred = model.predict(x_validate)\n",
    "        r2 = r2_score(y_validate, pred)\n",
    "        \n",
    "        return r2\n",
    "    else: # The other cases\n",
    "        \n",
    "        # Establishses the ParameterGrid\n",
    "        model_param_grid = ParameterGrid(param_grid)\n",
    "        \n",
    "        # Initialize values\n",
    "        best_MAE = 0\n",
    "        best_r2 = 1\n",
    "        best_config = None\n",
    "        # Iterate through the parameter grid, fit models to the hyperparameters\n",
    "        # and check for MAE and R2 values\n",
    "        \n",
    "        # each param_config in that validation function would represent 1 combination of the possible parameters.\n",
    "        # for example in Lab 6, when I'm validating for the elastic net regression, I have \n",
    "        # 2 possible hyperparameters: alpha and l1_ratio. \n",
    "        #alpha can take on values 0.0001, 0.0005, etc, and l1_ratio can take on values 0, 1, 0.01. \n",
    "        #So each param_config in the for loop in validate_model would go over 1 possible \n",
    "        #combination of the hyperparameter and keep the one that gives us the best MAE/R2\n",
    "        for param_config in model_param_grid:\n",
    "            curr_config_MAEs = []\n",
    "            model = model_type(**param_config)\n",
    "            model.fit(x_train, y_train)\n",
    "            pred = model.predict(x_validate)\n",
    "            MAE = mean_squared_error(y_validate,pred)\n",
    "            r2 = r2_score(y_validate, pred)\n",
    "            curr_config_MAEs.append(MAE)\n",
    "            if best_MAE == 0 or (MAE < best_MAE):\n",
    "                best_MAE = MAE\n",
    "                best_config = param_config\n",
    "            if best_r2 == 1 or (r2 > best_r2):\n",
    "                best_r2 = r2\n",
    "        return best_config, best_MAE, best_r2"
   ]
  },
  {
   "cell_type": "code",
   "execution_count": 3,
   "id": "a28c0132",
   "metadata": {},
   "outputs": [],
   "source": [
    "# Predictions\n",
    "def pred(model_type, x_train, y_train, x_test, y_test):\n",
    "    # Fit model and predict \n",
    "    model = model_type.fit(x_train, y_train)\n",
    "    pred = model.predict(x_test)\n",
    "    \n",
    "    # Format prediction as DataFrame\n",
    "    pred_df = pd.DataFrame(pred, columns = ['RET_pred'])\n",
    "    pred_df.set_index(x_test.index, inplace = True)\n",
    "    \n",
    "    r2 = r2_score(y_test, pred)\n",
    "    return pred_df, r2"
   ]
  },
  {
   "cell_type": "code",
   "execution_count": 4,
   "id": "a315d68d",
   "metadata": {},
   "outputs": [],
   "source": [
    "train = pd.read_csv(\"train.csv\")"
   ]
  },
  {
   "cell_type": "code",
   "execution_count": 5,
   "id": "1bae85a3",
   "metadata": {},
   "outputs": [],
   "source": [
    "valid = pd.read_csv(\"valid.csv\")"
   ]
  },
  {
   "cell_type": "code",
   "execution_count": 6,
   "id": "bed00a04",
   "metadata": {},
   "outputs": [],
   "source": [
    "total = pd.concat([train, valid], axis=0)"
   ]
  },
  {
   "cell_type": "code",
   "execution_count": 7,
   "id": "b0fb9ebf",
   "metadata": {},
   "outputs": [],
   "source": [
    "train, valid, test = \\\n",
    "                        np.split(total.sample(frac=1, random_state=42), \n",
    "                        [int(.6*len(total)), int(.8*len(total))])"
   ]
  },
  {
   "cell_type": "code",
   "execution_count": 8,
   "id": "7dcde82d",
   "metadata": {},
   "outputs": [],
   "source": [
    "x_train = train[['VOL', 'SPREAD', 'sizeln', 's2p', 'epspxq']]\n",
    "y_train = train['risk_premium']\n",
    "\n",
    "x_validate = valid[['VOL', 'SPREAD', 'sizeln', 's2p', 'epspxq']]\n",
    "y_validate = valid['risk_premium']\n",
    "\n",
    "x_test = test[['VOL', 'SPREAD', 'sizeln', 's2p', 'epspxq']]\n",
    "y_test = test['risk_premium']"
   ]
  },
  {
   "cell_type": "code",
   "execution_count": 9,
   "id": "cc2b238c",
   "metadata": {},
   "outputs": [
    {
     "name": "stderr",
     "output_type": "stream",
     "text": [
      "/usr/local/lib/python3.8/dist-packages/sklearn/linear_model/_coordinate_descent.py:647: ConvergenceWarning: Objective did not converge. You might want to increase the number of iterations, check the scale of the features or consider increasing regularisation. Duality gap: 1.838e+02, tolerance: 3.679e-02 Linear regression models with null weight for the l1 regularization term are more efficiently fitted using one of the solvers implemented in sklearn.linear_model.Ridge/RidgeCV instead.\n",
      "  model = cd_fast.enet_coordinate_descent(\n",
      "/usr/local/lib/python3.8/dist-packages/sklearn/linear_model/_coordinate_descent.py:647: ConvergenceWarning: Objective did not converge. You might want to increase the number of iterations, check the scale of the features or consider increasing regularisation. Duality gap: 1.838e+02, tolerance: 3.679e-02 Linear regression models with null weight for the l1 regularization term are more efficiently fitted using one of the solvers implemented in sklearn.linear_model.Ridge/RidgeCV instead.\n",
      "  model = cd_fast.enet_coordinate_descent(\n",
      "/usr/local/lib/python3.8/dist-packages/sklearn/linear_model/_coordinate_descent.py:647: ConvergenceWarning: Objective did not converge. You might want to increase the number of iterations, check the scale of the features or consider increasing regularisation. Duality gap: 1.838e+02, tolerance: 3.679e-02 Linear regression models with null weight for the l1 regularization term are more efficiently fitted using one of the solvers implemented in sklearn.linear_model.Ridge/RidgeCV instead.\n",
      "  model = cd_fast.enet_coordinate_descent(\n",
      "/usr/local/lib/python3.8/dist-packages/sklearn/linear_model/_coordinate_descent.py:647: ConvergenceWarning: Objective did not converge. You might want to increase the number of iterations, check the scale of the features or consider increasing regularisation. Duality gap: 1.838e+02, tolerance: 3.679e-02 Linear regression models with null weight for the l1 regularization term are more efficiently fitted using one of the solvers implemented in sklearn.linear_model.Ridge/RidgeCV instead.\n",
      "  model = cd_fast.enet_coordinate_descent(\n",
      "/usr/local/lib/python3.8/dist-packages/sklearn/linear_model/_coordinate_descent.py:647: ConvergenceWarning: Objective did not converge. You might want to increase the number of iterations, check the scale of the features or consider increasing regularisation. Duality gap: 1.838e+02, tolerance: 3.679e-02 Linear regression models with null weight for the l1 regularization term are more efficiently fitted using one of the solvers implemented in sklearn.linear_model.Ridge/RidgeCV instead.\n",
      "  model = cd_fast.enet_coordinate_descent(\n",
      "/usr/local/lib/python3.8/dist-packages/sklearn/linear_model/_coordinate_descent.py:647: ConvergenceWarning: Objective did not converge. You might want to increase the number of iterations, check the scale of the features or consider increasing regularisation. Duality gap: 1.838e+02, tolerance: 3.679e-02 Linear regression models with null weight for the l1 regularization term are more efficiently fitted using one of the solvers implemented in sklearn.linear_model.Ridge/RidgeCV instead.\n",
      "  model = cd_fast.enet_coordinate_descent(\n",
      "/usr/local/lib/python3.8/dist-packages/sklearn/linear_model/_coordinate_descent.py:647: ConvergenceWarning: Objective did not converge. You might want to increase the number of iterations, check the scale of the features or consider increasing regularisation. Duality gap: 1.838e+02, tolerance: 3.679e-02 Linear regression models with null weight for the l1 regularization term are more efficiently fitted using one of the solvers implemented in sklearn.linear_model.Ridge/RidgeCV instead.\n",
      "  model = cd_fast.enet_coordinate_descent(\n"
     ]
    },
    {
     "name": "stdout",
     "output_type": "stream",
     "text": [
      "Best Config{'alpha': 0.01, 'l1_ratio': 0.06}\n",
      "Validation R2: 0.00029800209302122127\n"
     ]
    }
   ],
   "source": [
    "# Initialize the dictionary for the parameter grid\n",
    "en_grid = dict()\n",
    "# Set the parameter grid\n",
    "en_grid['alpha'] = [0.0001,0.0005,0.001,0.005, 0.01,0.05,0.1]\n",
    "en_grid['l1_ratio'] = np.arange(0, 1, 0.01)\n",
    "\n",
    "# Run the validation\n",
    "en_best_config, en_best_MAE, en_best_r2 = validate_model(ElasticNet, en_grid, x_train, y_train, x_validate\\\n",
    "                                                         , y_validate)\n",
    "\n",
    "# To avoid convergence warnings, we can either \n",
    "# 1) set the tolerance higher (to require a less strict convergence requirement) or\n",
    "# 2) increase the maximum number of iterations we allow\n",
    "\n",
    "# There is no guarantee that we will get convergence when we fit a model, we can only \n",
    "# decide to cut off after a certain point\n",
    "\n",
    "print('Best Config' + str(en_best_config))\n",
    "print('Validation R2: '+ str(en_best_r2))"
   ]
  },
  {
   "cell_type": "code",
   "execution_count": 10,
   "id": "bb660164",
   "metadata": {},
   "outputs": [
    {
     "name": "stdout",
     "output_type": "stream",
     "text": [
      "Best config:{'n_components': 1}\n",
      "Validation R2: 0.0002755757789726365\n"
     ]
    }
   ],
   "source": [
    "factors = ['VOL', 'SPREAD', 'sizeln', 's2p', 'epspxq']\n",
    "pls_grid = dict()\n",
    "pls_grid['n_components'] = np.arange(1, len(factors)+1, 1)\n",
    "\n",
    "pls_best_config, pls_best_MAE, pls_best_r2 = validate_model(PLSRegression, pls_grid, x_train, y_train, x_validate\\\n",
    "                                                            , y_validate)\n",
    "print('Best config:' + str(pls_best_config))\n",
    "print('Validation R2: ' + str(pls_best_r2))"
   ]
  },
  {
   "cell_type": "code",
   "execution_count": 11,
   "id": "e45a7cd3",
   "metadata": {},
   "outputs": [],
   "source": [
    "# Run the validation for the Linaer Regression\n",
    "slr_r2_score = validate_model(LinearRegression, 1, x_train, y_train, x_validate, y_validate)"
   ]
  },
  {
   "cell_type": "code",
   "execution_count": 12,
   "id": "ff92caaa",
   "metadata": {},
   "outputs": [],
   "source": [
    "slr_vali_pred_df, slr_vali_r2 = pred(LinearRegression(), x_train, y_train, x_validate, y_validate)\n",
    "pls_vali_pred_df, pls_vali_r2 = pred(ElasticNet(l1_ratio = 0.32, alpha = 0.0001),\\\n",
    "                                     x_train, y_train, x_validate, y_validate)\n",
    "en_vali_pred_df, en_vali_r2 = pred(PLSRegression(2), x_train, y_train, x_validate, y_validate)"
   ]
  },
  {
   "cell_type": "code",
   "execution_count": 13,
   "id": "94fd72cf",
   "metadata": {},
   "outputs": [
    {
     "data": {
      "text/plain": [
       "Text(0.5, 1.0, 'Actual returns vs predicted returns (validation set), SLR')"
      ]
     },
     "execution_count": 13,
     "metadata": {},
     "output_type": "execute_result"
    },
    {
     "data": {
      "image/png": "[encoded data removed]",
      "text/plain": [
       "<Figure size 432x288 with 1 Axes>"
      ]
     },
     "metadata": {
      "needs_background": "light"
     },
     "output_type": "display_data"
    }
   ],
   "source": [
    "plt.scatter(y_test.sort_index(), slr_vali_pred_df['RET_pred'].sort_index())\n",
    "plt.title('Actual returns vs predicted returns (validation set), SLR')"
   ]
  },
  {
   "cell_type": "code",
   "execution_count": 14,
   "id": "c938b2e0",
   "metadata": {},
   "outputs": [
    {
     "data": {
      "text/plain": [
       "Text(0.5, 1.0, 'Actual returns vs predicted returns (validation set), PLS')"
      ]
     },
     "execution_count": 14,
     "metadata": {},
     "output_type": "execute_result"
    },
    {
     "data": {
      "image/png": "[encoded data removed]",
      "text/plain": [
       "<Figure size 432x288 with 1 Axes>"
      ]
     },
     "metadata": {
      "needs_background": "light"
     },
     "output_type": "display_data"
    }
   ],
   "source": [
    "plt.scatter(y_test.sort_index(), pls_vali_pred_df['RET_pred'].sort_index())\n",
    "plt.title('Actual returns vs predicted returns (validation set), PLS')"
   ]
  },
  {
   "cell_type": "code",
   "execution_count": 15,
   "id": "7a64aaca",
   "metadata": {},
   "outputs": [
    {
     "data": {
      "text/plain": [
       "Text(0.5, 1.0, 'Actual returns vs predicted returns (validation set), EN')"
      ]
     },
     "execution_count": 15,
     "metadata": {},
     "output_type": "execute_result"
    },
    {
     "data": {
      "image/png": "[encoded data removed]",
      "text/plain": [
       "<Figure size 432x288 with 1 Axes>"
      ]
     },
     "metadata": {
      "needs_background": "light"
     },
     "output_type": "display_data"
    }
   ],
   "source": [
    "plt.scatter(y_test.sort_index(), pls_vali_pred_df['RET_pred'].sort_index())\n",
    "plt.title('Actual returns vs predicted returns (validation set), EN')"
   ]
  }
 ],
 "metadata": {
  "kernelspec": {
   "display_name": "Python 3 (ipykernel)",
   "language": "python",
   "name": "python3"
  },
  "language_info": {
   "codemirror_mode": {
    "name": "ipython",
    "version": 3
   },
   "file_extension": ".py",
   "mimetype": "text/x-python",
   "name": "python",
   "nbconvert_exporter": "python",
   "pygments_lexer": "ipython3",
   "version": "3.8.10"
  }
 },
 "nbformat": 4,
 "nbformat_minor": 5
}
